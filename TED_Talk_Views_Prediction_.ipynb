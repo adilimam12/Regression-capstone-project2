{
  "nbformat": 4,
  "nbformat_minor": 0,
  "metadata": {
    "colab": {
      "provenance": [],
      "authorship_tag": "ABX9TyMAHxz/TwUOhYs3TQrclYot",
      "include_colab_link": true
    },
    "kernelspec": {
      "name": "python3",
      "display_name": "Python 3"
    },
    "language_info": {
      "name": "python"
    }
  },
  "cells": [
    {
      "cell_type": "markdown",
      "metadata": {
        "id": "view-in-github",
        "colab_type": "text"
      },
      "source": [
        "<a href=\"https://colab.research.google.com/github/adilimam12/Regression-capstone-project2/blob/main/TED_Talk_Views_Prediction_.ipynb\" target=\"_parent\"><img src=\"https://colab.research.google.com/assets/colab-badge.svg\" alt=\"Open In Colab\"/></a>"
      ]
    },
    {
      "cell_type": "markdown",
      "source": [
        "**A TED talk is a recorded public-speaking presentation that was originally given at the main TED (technology, entertainment and design) .**\n",
        "\n",
        "---\n",
        "\n",
        "\n",
        "TED Conferences, LLC is an American-Canadian non-profit media organization that posts international talks online for free distribution under the slogan \"ideas worth spreading\""
      ],
      "metadata": {
        "id": "uneeJ_-8MPio"
      }
    },
    {
      "cell_type": "markdown",
      "source": [
        "![ted-talks-logo-1080x675.jpg](data:image/jpeg;base64,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)"
      ],
      "metadata": {
        "id": "QeHAW33cKzXa"
      }
    },
    {
      "cell_type": "markdown",
      "source": [
        "**Problem Statement**\n",
        "\n",
        "---\n",
        "\n",
        "\n",
        "TED is devoted to spreading powerful ideas on just about any topic. This dataset contain over 4,005 TED talks including transcripts in many languages.\n",
        "\n",
        "Founded in 1984 by Richard Salman as a nonprofit organization that aimed at bringing experts from the fields of Technology, Entertainment, and Design together, TED Conferences have gone on to become the Mecca of ideas from virtually all walks of life. As of 2015, TED and its sister TEDx chapters have published more than 2000 talks for free consumption by the masses and its speaker list boasts of the likes of Al Gore, Jimmy Wales, Shahrukh Khan, and Bill Gates.\n",
        "\n",
        "TED talks have been given for many years with the platform of \"Ideas Worth Spreading\". In the digital world we live in today, TED is a great platform to get your idea out there. But how do you know if your idea will be heard or appreciated.\n",
        "\n",
        "The main objective is to build a predictive model, which could help in predicting the views of the videos uploaded on the TEDx website."
      ],
      "metadata": {
        "id": "Bf-USGAbIS5l"
      }
    },
    {
      "cell_type": "markdown",
      "source": [
        "**Project Work flow**\n",
        "\n",
        "---\n",
        "Steps followed:\n",
        "\n",
        "1)Data loading\n",
        "\n",
        "2)Data Cleaning\n",
        "\n",
        "3)EDA\n",
        "\n",
        "4)Feature engineering\n",
        "\n",
        "5)Model buliding\n",
        "\n",
        "6)Evaluation of models\n"
      ],
      "metadata": {
        "id": "uBAFK87vQzML"
      }
    },
    {
      "cell_type": "markdown",
      "source": [
        "**Libraries used in this Project:**\n",
        "\n",
        "---\n",
        "\n",
        "\n",
        "Datawrangling:\n",
        "\n",
        "Numpy\n",
        "\n",
        "Pandas\n",
        "\n",
        "For Graphing:\n",
        "\n",
        "Matplotib\n",
        "\n",
        "Seaborn\n",
        "\n",
        "Machine learning:\n",
        "\n",
        "Scikit-Learn\n",
        "\n",
        "SK-Opt\n",
        "\n",
        "XGBoost\n",
        "\n",
        "CatBoost\n"
      ],
      "metadata": {
        "id": "5wl8AZxNReYO"
      }
    },
    {
      "cell_type": "code",
      "source": [
        "#importing all necessary libraries\n",
        "import numpy as np\n",
        "import pandas as pd \n",
        "from numpy import math\n",
        "\n",
        "from sklearn.preprocessing import MinMaxScaler\n",
        "from sklearn.model_selection import train_test_split\n",
        "from sklearn.linear_model import LinearRegression\n",
        "from sklearn.metrics import r2_score\n",
        "from sklearn.metrics import mean_squared_error\n",
        "import seaborn as sns\n",
        "import matplotlib.pyplot as plt\n",
        "import warnings\n",
        "warnings.filterwarnings('ignore')"
      ],
      "metadata": {
        "id": "-18jCd-kNYxy"
      },
      "execution_count": 6,
      "outputs": []
    },
    {
      "cell_type": "code",
      "execution_count": 3,
      "metadata": {
        "colab": {
          "base_uri": "https://localhost:8080/"
        },
        "id": "ryLHNo1ZESrd",
        "outputId": "f0eaa1cd-b3f5-4c21-c1d0-39a5dbb3e3e6"
      },
      "outputs": [
        {
          "output_type": "stream",
          "name": "stdout",
          "text": [
            "Mounted at /content/drive\n"
          ]
        }
      ],
      "source": [
        "from google.colab import drive\n",
        "drive.mount('/content/drive')"
      ]
    },
    {
      "cell_type": "code",
      "source": [
        "tedtalk_df=pd.read_csv('/content/drive/MyDrive/almabetter/capstone project2/data_ted_talks .csv')"
      ],
      "metadata": {
        "id": "4Iw9e-r3HEnr"
      },
      "execution_count": 5,
      "outputs": []
    },
    {
      "cell_type": "markdown",
      "source": [
        "# Some insights of the data"
      ],
      "metadata": {
        "id": "ONT4PcnjTl-_"
      }
    },
    {
      "cell_type": "code",
      "source": [
        "tedtalk_df.head()"
      ],
      "metadata": {
        "id": "KgCxLzx-HE9d"
      },
      "execution_count": null,
      "outputs": []
    },
    {
      "cell_type": "code",
      "source": [
        "tedtalk_df.columns"
      ],
      "metadata": {
        "colab": {
          "base_uri": "https://localhost:8080/"
        },
        "id": "OvS_RDKOHFOK",
        "outputId": "7d4e98e1-2cda-4d1d-d76c-a8593c878df5"
      },
      "execution_count": 10,
      "outputs": [
        {
          "output_type": "execute_result",
          "data": {
            "text/plain": [
              "Index(['talk_id', 'title', 'speaker_1', 'all_speakers', 'occupations',\n",
              "       'about_speakers', 'views', 'recorded_date', 'published_date', 'event',\n",
              "       'native_lang', 'available_lang', 'comments', 'duration', 'topics',\n",
              "       'related_talks', 'url', 'description', 'transcript'],\n",
              "      dtype='object')"
            ]
          },
          "metadata": {},
          "execution_count": 10
        }
      ]
    },
    {
      "cell_type": "code",
      "source": [
        "tedtalk_df.info()"
      ],
      "metadata": {
        "colab": {
          "base_uri": "https://localhost:8080/"
        },
        "id": "im6hgXFwHFoF",
        "outputId": "65448faf-9f4e-4731-80e3-18a1717e94fa"
      },
      "execution_count": 11,
      "outputs": [
        {
          "output_type": "stream",
          "name": "stdout",
          "text": [
            "<class 'pandas.core.frame.DataFrame'>\n",
            "RangeIndex: 4005 entries, 0 to 4004\n",
            "Data columns (total 19 columns):\n",
            " #   Column          Non-Null Count  Dtype  \n",
            "---  ------          --------------  -----  \n",
            " 0   talk_id         4005 non-null   int64  \n",
            " 1   title           4005 non-null   object \n",
            " 2   speaker_1       4005 non-null   object \n",
            " 3   all_speakers    4001 non-null   object \n",
            " 4   occupations     3483 non-null   object \n",
            " 5   about_speakers  3502 non-null   object \n",
            " 6   views           4005 non-null   int64  \n",
            " 7   recorded_date   4004 non-null   object \n",
            " 8   published_date  4005 non-null   object \n",
            " 9   event           4005 non-null   object \n",
            " 10  native_lang     4005 non-null   object \n",
            " 11  available_lang  4005 non-null   object \n",
            " 12  comments        3350 non-null   float64\n",
            " 13  duration        4005 non-null   int64  \n",
            " 14  topics          4005 non-null   object \n",
            " 15  related_talks   4005 non-null   object \n",
            " 16  url             4005 non-null   object \n",
            " 17  description     4005 non-null   object \n",
            " 18  transcript      4005 non-null   object \n",
            "dtypes: float64(1), int64(3), object(15)\n",
            "memory usage: 594.6+ KB\n"
          ]
        }
      ]
    },
    {
      "cell_type": "markdown",
      "source": [
        "**Findings**:-\n",
        "\n",
        "We can observe that we have 4005 rows of data with 19 columns. Before starting with the EDA, we need to clean the data."
      ],
      "metadata": {
        "id": "NLiVm4kpT3uK"
      }
    },
    {
      "cell_type": "markdown",
      "source": [
        "# Data Cleaning"
      ],
      "metadata": {
        "id": "JUxNRhjXWj5n"
      }
    },
    {
      "cell_type": "code",
      "source": [
        "#checking which column is object or not\n",
        "tedtalk_df.dtypes==object\n"
      ],
      "metadata": {
        "colab": {
          "base_uri": "https://localhost:8080/"
        },
        "id": "eIdjlpmFWjdT",
        "outputId": "15895638-2cfb-4fdd-aa60-618e065afa6f"
      },
      "execution_count": 12,
      "outputs": [
        {
          "output_type": "execute_result",
          "data": {
            "text/plain": [
              "talk_id           False\n",
              "title              True\n",
              "speaker_1          True\n",
              "all_speakers       True\n",
              "occupations        True\n",
              "about_speakers     True\n",
              "views             False\n",
              "recorded_date      True\n",
              "published_date     True\n",
              "event              True\n",
              "native_lang        True\n",
              "available_lang     True\n",
              "comments          False\n",
              "duration          False\n",
              "topics             True\n",
              "related_talks      True\n",
              "url                True\n",
              "description        True\n",
              "transcript         True\n",
              "dtype: bool"
            ]
          },
          "metadata": {},
          "execution_count": 12
        }
      ]
    },
    {
      "cell_type": "code",
      "source": [
        "#seperate numerical column and categorical column\n",
        "num_vars=tedtalk_df.columns[tedtalk_df.dtypes !='object']\n",
        "cat_vars=tedtalk_df.columns[tedtalk_df.dtypes =='object']\n",
        "print(num_vars)\n",
        "print(cat_vars)"
      ],
      "metadata": {
        "colab": {
          "base_uri": "https://localhost:8080/"
        },
        "id": "LOuBdVoiHF4t",
        "outputId": "af878a24-65ec-4a9a-c5f8-f3484dad250a"
      },
      "execution_count": 16,
      "outputs": [
        {
          "output_type": "stream",
          "name": "stdout",
          "text": [
            "Index(['talk_id', 'views', 'comments', 'duration'], dtype='object')\n",
            "Index(['title', 'speaker_1', 'all_speakers', 'occupations', 'about_speakers',\n",
            "       'recorded_date', 'published_date', 'event', 'native_lang',\n",
            "       'available_lang', 'topics', 'related_talks', 'url', 'description',\n",
            "       'transcript'],\n",
            "      dtype='object')\n"
          ]
        }
      ]
    },
    {
      "cell_type": "code",
      "source": [
        "tedtalk_df[num_vars]"
      ],
      "metadata": {
        "colab": {
          "base_uri": "https://localhost:8080/",
          "height": 424
        },
        "id": "djYireHJHGIm",
        "outputId": "239ef9c4-9db9-4cc5-b42b-96a4ef073cbd"
      },
      "execution_count": 18,
      "outputs": [
        {
          "output_type": "execute_result",
          "data": {
            "text/plain": [
              "      talk_id     views  comments  duration\n",
              "0           1   3523392     272.0       977\n",
              "1          92  14501685     628.0      1190\n",
              "2           7   1920832     124.0      1286\n",
              "3          53   2664069     219.0      1116\n",
              "4          66  65051954    4931.0      1164\n",
              "...       ...       ...       ...       ...\n",
              "4000    62678    502934       6.0       690\n",
              "4001    62782    307187       NaN       346\n",
              "4002    62263    464414       9.0       774\n",
              "4003    62784     56582       NaN       257\n",
              "4004    62794         0       NaN       281\n",
              "\n",
              "[4005 rows x 4 columns]"
            ],
            "text/html": [
              "\n",
              "  <div id=\"df-f57ade48-dea2-4e8a-a162-bc20a3d8eec7\">\n",
              "    <div class=\"colab-df-container\">\n",
              "      <div>\n",
              "<style scoped>\n",
              "    .dataframe tbody tr th:only-of-type {\n",
              "        vertical-align: middle;\n",
              "    }\n",
              "\n",
              "    .dataframe tbody tr th {\n",
              "        vertical-align: top;\n",
              "    }\n",
              "\n",
              "    .dataframe thead th {\n",
              "        text-align: right;\n",
              "    }\n",
              "</style>\n",
              "<table border=\"1\" class=\"dataframe\">\n",
              "  <thead>\n",
              "    <tr style=\"text-align: right;\">\n",
              "      <th></th>\n",
              "      <th>talk_id</th>\n",
              "      <th>views</th>\n",
              "      <th>comments</th>\n",
              "      <th>duration</th>\n",
              "    </tr>\n",
              "  </thead>\n",
              "  <tbody>\n",
              "    <tr>\n",
              "      <th>0</th>\n",
              "      <td>1</td>\n",
              "      <td>3523392</td>\n",
              "      <td>272.0</td>\n",
              "      <td>977</td>\n",
              "    </tr>\n",
              "    <tr>\n",
              "      <th>1</th>\n",
              "      <td>92</td>\n",
              "      <td>14501685</td>\n",
              "      <td>628.0</td>\n",
              "      <td>1190</td>\n",
              "    </tr>\n",
              "    <tr>\n",
              "      <th>2</th>\n",
              "      <td>7</td>\n",
              "      <td>1920832</td>\n",
              "      <td>124.0</td>\n",
              "      <td>1286</td>\n",
              "    </tr>\n",
              "    <tr>\n",
              "      <th>3</th>\n",
              "      <td>53</td>\n",
              "      <td>2664069</td>\n",
              "      <td>219.0</td>\n",
              "      <td>1116</td>\n",
              "    </tr>\n",
              "    <tr>\n",
              "      <th>4</th>\n",
              "      <td>66</td>\n",
              "      <td>65051954</td>\n",
              "      <td>4931.0</td>\n",
              "      <td>1164</td>\n",
              "    </tr>\n",
              "    <tr>\n",
              "      <th>...</th>\n",
              "      <td>...</td>\n",
              "      <td>...</td>\n",
              "      <td>...</td>\n",
              "      <td>...</td>\n",
              "    </tr>\n",
              "    <tr>\n",
              "      <th>4000</th>\n",
              "      <td>62678</td>\n",
              "      <td>502934</td>\n",
              "      <td>6.0</td>\n",
              "      <td>690</td>\n",
              "    </tr>\n",
              "    <tr>\n",
              "      <th>4001</th>\n",
              "      <td>62782</td>\n",
              "      <td>307187</td>\n",
              "      <td>NaN</td>\n",
              "      <td>346</td>\n",
              "    </tr>\n",
              "    <tr>\n",
              "      <th>4002</th>\n",
              "      <td>62263</td>\n",
              "      <td>464414</td>\n",
              "      <td>9.0</td>\n",
              "      <td>774</td>\n",
              "    </tr>\n",
              "    <tr>\n",
              "      <th>4003</th>\n",
              "      <td>62784</td>\n",
              "      <td>56582</td>\n",
              "      <td>NaN</td>\n",
              "      <td>257</td>\n",
              "    </tr>\n",
              "    <tr>\n",
              "      <th>4004</th>\n",
              "      <td>62794</td>\n",
              "      <td>0</td>\n",
              "      <td>NaN</td>\n",
              "      <td>281</td>\n",
              "    </tr>\n",
              "  </tbody>\n",
              "</table>\n",
              "<p>4005 rows × 4 columns</p>\n",
              "</div>\n",
              "      <button class=\"colab-df-convert\" onclick=\"convertToInteractive('df-f57ade48-dea2-4e8a-a162-bc20a3d8eec7')\"\n",
              "              title=\"Convert this dataframe to an interactive table.\"\n",
              "              style=\"display:none;\">\n",
              "        \n",
              "  <svg xmlns=\"http://www.w3.org/2000/svg\" height=\"24px\"viewBox=\"0 0 24 24\"\n",
              "       width=\"24px\">\n",
              "    <path d=\"M0 0h24v24H0V0z\" fill=\"none\"/>\n",
              "    <path d=\"M18.56 5.44l.94 2.06.94-2.06 2.06-.94-2.06-.94-.94-2.06-.94 2.06-2.06.94zm-11 1L8.5 8.5l.94-2.06 2.06-.94-2.06-.94L8.5 2.5l-.94 2.06-2.06.94zm10 10l.94 2.06.94-2.06 2.06-.94-2.06-.94-.94-2.06-.94 2.06-2.06.94z\"/><path d=\"M17.41 7.96l-1.37-1.37c-.4-.4-.92-.59-1.43-.59-.52 0-1.04.2-1.43.59L10.3 9.45l-7.72 7.72c-.78.78-.78 2.05 0 2.83L4 21.41c.39.39.9.59 1.41.59.51 0 1.02-.2 1.41-.59l7.78-7.78 2.81-2.81c.8-.78.8-2.07 0-2.86zM5.41 20L4 18.59l7.72-7.72 1.47 1.35L5.41 20z\"/>\n",
              "  </svg>\n",
              "      </button>\n",
              "      \n",
              "  <style>\n",
              "    .colab-df-container {\n",
              "      display:flex;\n",
              "      flex-wrap:wrap;\n",
              "      gap: 12px;\n",
              "    }\n",
              "\n",
              "    .colab-df-convert {\n",
              "      background-color: #E8F0FE;\n",
              "      border: none;\n",
              "      border-radius: 50%;\n",
              "      cursor: pointer;\n",
              "      display: none;\n",
              "      fill: #1967D2;\n",
              "      height: 32px;\n",
              "      padding: 0 0 0 0;\n",
              "      width: 32px;\n",
              "    }\n",
              "\n",
              "    .colab-df-convert:hover {\n",
              "      background-color: #E2EBFA;\n",
              "      box-shadow: 0px 1px 2px rgba(60, 64, 67, 0.3), 0px 1px 3px 1px rgba(60, 64, 67, 0.15);\n",
              "      fill: #174EA6;\n",
              "    }\n",
              "\n",
              "    [theme=dark] .colab-df-convert {\n",
              "      background-color: #3B4455;\n",
              "      fill: #D2E3FC;\n",
              "    }\n",
              "\n",
              "    [theme=dark] .colab-df-convert:hover {\n",
              "      background-color: #434B5C;\n",
              "      box-shadow: 0px 1px 3px 1px rgba(0, 0, 0, 0.15);\n",
              "      filter: drop-shadow(0px 1px 2px rgba(0, 0, 0, 0.3));\n",
              "      fill: #FFFFFF;\n",
              "    }\n",
              "  </style>\n",
              "\n",
              "      <script>\n",
              "        const buttonEl =\n",
              "          document.querySelector('#df-f57ade48-dea2-4e8a-a162-bc20a3d8eec7 button.colab-df-convert');\n",
              "        buttonEl.style.display =\n",
              "          google.colab.kernel.accessAllowed ? 'block' : 'none';\n",
              "\n",
              "        async function convertToInteractive(key) {\n",
              "          const element = document.querySelector('#df-f57ade48-dea2-4e8a-a162-bc20a3d8eec7');\n",
              "          const dataTable =\n",
              "            await google.colab.kernel.invokeFunction('convertToInteractive',\n",
              "                                                     [key], {});\n",
              "          if (!dataTable) return;\n",
              "\n",
              "          const docLinkHtml = 'Like what you see? Visit the ' +\n",
              "            '<a target=\"_blank\" href=https://colab.research.google.com/notebooks/data_table.ipynb>data table notebook</a>'\n",
              "            + ' to learn more about interactive tables.';\n",
              "          element.innerHTML = '';\n",
              "          dataTable['output_type'] = 'display_data';\n",
              "          await google.colab.output.renderOutput(dataTable, element);\n",
              "          const docLink = document.createElement('div');\n",
              "          docLink.innerHTML = docLinkHtml;\n",
              "          element.appendChild(docLink);\n",
              "        }\n",
              "      </script>\n",
              "    </div>\n",
              "  </div>\n",
              "  "
            ]
          },
          "metadata": {},
          "execution_count": 18
        }
      ]
    },
    {
      "cell_type": "code",
      "source": [],
      "metadata": {
        "id": "XZ5gdVZOHGiK"
      },
      "execution_count": null,
      "outputs": []
    }
  ]
}